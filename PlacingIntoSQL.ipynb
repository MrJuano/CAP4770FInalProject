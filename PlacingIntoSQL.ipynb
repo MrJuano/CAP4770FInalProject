{
 "cells": [
  {
   "cell_type": "code",
   "execution_count": 8,
   "id": "673d0f0e-dae5-442f-8797-d36a85eba8c8",
   "metadata": {},
   "outputs": [
    {
     "name": "stdout",
     "output_type": "stream",
     "text": [
      "Make                 0\n",
      "Model                0\n",
      "Year                 0\n",
      "Engine Fuel Type     0\n",
      "Engine HP            0\n",
      "Engine Cylinders     0\n",
      "Transmission Type    0\n",
      "Driven_Wheels        0\n",
      "Number of Doors      0\n",
      "Market Category      0\n",
      "Vehicle Size         0\n",
      "Vehicle Style        0\n",
      "highway MPG          0\n",
      "city mpg             0\n",
      "Popularity           0\n",
      "MSRP                 0\n",
      "dtype: int64\n",
      "Data uploaded successfully.\n"
     ]
    }
   ],
   "source": [
    "import pandas as pd\n",
    "import mysql.connector\n",
    "\n",
    "data = pd.read_csv(r'C:\\Users\\Maya\\Documents\\School\\CAP\\project\\data.csv')\n",
    "\n",
    "data.fillna({\n",
    "    'Engine Fuel Type': 'Unknown',\n",
    "    'Engine HP': 0,\n",
    "    'Engine Cylinders': 0,\n",
    "    'Number of Doors': 0,\n",
    "    'Market Category': 'N/A',\n",
    "}, inplace=True)\n",
    "\n",
    "print(data.isnull().sum())\n",
    "\n",
    "connection = mysql.connector.connect(\n",
    "    host='localhost',\n",
    "    user='root',\n",
    "    password='!@QWaszx23we',\n",
    "    database='car_data'\n",
    ")\n",
    "\n",
    "cursor = connection.cursor()\n",
    "\n",
    "for index, row in data.iterrows():\n",
    "    sql = \"\"\"\n",
    "    INSERT INTO car_info (Make, Model, Year, Engine_Fuel_Type, Engine_HP, Engine_Cylinders,\n",
    "                          Transmission_Type, Driven_Wheels, Number_of_Doors, Market_Category,\n",
    "                          Vehicle_Size, Vehicle_Style, Highway_MPG, City_MPG, Popularity, MSRP)\n",
    "    VALUES (%s, %s, %s, %s, %s, %s, %s, %s, %s, %s, %s, %s, %s, %s, %s, %s)\n",
    "    \"\"\"\n",
    "    try:\n",
    "        cursor.execute(sql, tuple(row))\n",
    "    except Exception as e:\n",
    "        print(f\"Error at index {index}: {e}\")\n",
    "        print(row)\n",
    "\n",
    "connection.commit()\n",
    "\n",
    "cursor.close()\n",
    "connection.close()\n",
    "\n",
    "print(\"Data uploaded successfully.\")\n"
   ]
  },
  {
   "cell_type": "code",
   "execution_count": null,
   "id": "a94775f0-4223-4458-8d57-1b8d5a258284",
   "metadata": {},
   "outputs": [],
   "source": []
  }
 ],
 "metadata": {
  "kernelspec": {
   "display_name": "Python 3 (ipykernel)",
   "language": "python",
   "name": "python3"
  },
  "language_info": {
   "codemirror_mode": {
    "name": "ipython",
    "version": 3
   },
   "file_extension": ".py",
   "mimetype": "text/x-python",
   "name": "python",
   "nbconvert_exporter": "python",
   "pygments_lexer": "ipython3",
   "version": "3.12.4"
  }
 },
 "nbformat": 4,
 "nbformat_minor": 5
}
